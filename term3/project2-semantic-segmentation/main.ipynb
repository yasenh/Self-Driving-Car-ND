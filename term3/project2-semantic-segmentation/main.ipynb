{
 "cells": [
  {
   "cell_type": "code",
   "execution_count": 1,
   "metadata": {},
   "outputs": [
    {
     "name": "stdout",
     "output_type": "stream",
     "text": [
      "TensorFlow Version: 1.2.1\n",
      "Default GPU Device: /gpu:0\n"
     ]
    }
   ],
   "source": [
    "import os.path\n",
    "import tensorflow as tf\n",
    "import helper\n",
    "import warnings\n",
    "from distutils.version import LooseVersion\n",
    "import project_tests as tests\n",
    "import matplotlib.pyplot as plt\n",
    "# Allow image embeding in notebook\n",
    "%matplotlib inline\n",
    "\n",
    "# Check TensorFlow Version\n",
    "assert LooseVersion(tf.__version__) >= LooseVersion('1.0'), 'Please use TensorFlow version 1.0 or newer.  You are using {}'.format(tf.__version__)\n",
    "print('TensorFlow Version: {}'.format(tf.__version__))\n",
    "\n",
    "# Check for a GPU\n",
    "if not tf.test.gpu_device_name():\n",
    "    warnings.warn('No GPU found. Please use a GPU to train your neural network.')\n",
    "else:\n",
    "    print('Default GPU Device: {}'.format(tf.test.gpu_device_name()))"
   ]
  },
  {
   "cell_type": "code",
   "execution_count": 2,
   "metadata": {
    "collapsed": true
   },
   "outputs": [],
   "source": [
    "def load_vgg(sess, vgg_path):\n",
    "    \"\"\"\n",
    "    Load Pretrained VGG Model into TensorFlow.\n",
    "    :param sess: TensorFlow Session\n",
    "    :param vgg_path: Path to vgg folder, containing \"variables/\" and \"saved_model.pb\"\n",
    "    :return: Tuple of Tensors from VGG model (image_input, keep_prob, layer3_out, layer4_out, layer7_out)\n",
    "    \"\"\"\n",
    "\n",
    "    vgg_tag = 'vgg16'\n",
    "    vgg_input_tensor_name = 'image_input:0'\n",
    "    vgg_keep_prob_tensor_name = 'keep_prob:0'\n",
    "    vgg_layer3_out_tensor_name = 'layer3_out:0'\n",
    "    vgg_layer4_out_tensor_name = 'layer4_out:0'\n",
    "    vgg_layer7_out_tensor_name = 'layer7_out:0'\n",
    "\n",
    "    # Use tf.saved_model.loader.load to load the model and weights   \n",
    "    tf.saved_model.loader.load(sess, [vgg_tag], vgg_path)\n",
    "    \n",
    "    # get these layers that we gonna use in next step\n",
    "    vgg_input_tensor = tf.get_default_graph().get_tensor_by_name(vgg_input_tensor_name)\n",
    "    vgg_keep_prob_tensor = tf.get_default_graph().get_tensor_by_name(vgg_keep_prob_tensor_name)\n",
    "    vgg_layer3_out_tensor = tf.get_default_graph().get_tensor_by_name(vgg_layer3_out_tensor_name)\n",
    "    vgg_layer4_out_tensor = tf.get_default_graph().get_tensor_by_name(vgg_layer4_out_tensor_name)\n",
    "    vgg_layer7_out_tensor = tf.get_default_graph().get_tensor_by_name(vgg_layer7_out_tensor_name)\n",
    "    \n",
    "    return vgg_input_tensor, vgg_keep_prob_tensor, vgg_layer3_out_tensor, vgg_layer4_out_tensor, vgg_layer7_out_tensor\n",
    "\n",
    "#tests.test_load_vgg(load_vgg, tf)"
   ]
  },
  {
   "cell_type": "code",
   "execution_count": 3,
   "metadata": {
    "collapsed": true
   },
   "outputs": [],
   "source": [
    "def layers(vgg_layer3_out, vgg_layer4_out, vgg_layer7_out, num_classes):\n",
    "    \"\"\"\n",
    "    Create the layers for a fully convolutional network.  Build skip-layers using the vgg layers.\n",
    "    :param vgg_layer7_out: TF Tensor for VGG Layer 3 output\n",
    "    :param vgg_layer4_out: TF Tensor for VGG Layer 4 output\n",
    "    :param vgg_layer3_out: TF Tensor for VGG Layer 7 output\n",
    "    :param num_classes: Number of classes to classify\n",
    "    :return: The Tensor for the last layer of output\n",
    "    \"\"\"\n",
    "    # reference: http://ethereon.github.io/netscope/#/preset/vgg-16\n",
    "    # https://leonardoaraujosantos.gitbooks.io/artificial-inteligence/content/image_segmentation.html\n",
    "    \n",
    "    #conv2d/conv2d_transpose(inputs, filters, kernel_size, strides, padding)\n",
    "    # 1x1 conv instead of fully connected layer\n",
    "    vgg_layer7_conv_out = tf.layers.conv2d(vgg_layer7_out, num_classes, 1, 1,'same')\n",
    "    # 2x upsample\n",
    "    vgg_layer7_transpose = tf.layers.conv2d_transpose(vgg_layer7_conv_out, num_classes, 4, 2, 'same')\n",
    "    vgg_layer4_conv_out = tf.layers.conv2d(vgg_layer4_out, num_classes, 1, 1,'same')\n",
    "    # skip connection\n",
    "    output1 = tf.add(vgg_layer7_transpose, vgg_layer4_conv_out)\n",
    "    # same upsamele and conection \n",
    "    vgg_layer4_transpose = tf.layers.conv2d_transpose(output1, num_classes, 4, 2, 'same')\n",
    "    vgg_layer3_conv_out = tf.layers.conv2d(vgg_layer3_out, num_classes, 1, 1,'same')\n",
    "    output2 = tf.add(vgg_layer4_transpose, vgg_layer3_conv_out)\n",
    "    # 8x upsample back to original image\n",
    "    output = tf.layers.conv2d_transpose(output2, num_classes, 16, 8, 'same')\n",
    "        \n",
    "    return output\n",
    "\n",
    "#tests.test_layers(layers)"
   ]
  },
  {
   "cell_type": "code",
   "execution_count": 4,
   "metadata": {
    "collapsed": true
   },
   "outputs": [],
   "source": [
    "def optimize(nn_last_layer, correct_label, learning_rate, num_classes):\n",
    "    \"\"\"\n",
    "    Build the TensorFLow loss and optimizer operations.\n",
    "    :param nn_last_layer: TF Tensor of the last layer in the neural network\n",
    "    :param correct_label: TF Placeholder for the correct label image\n",
    "    :param learning_rate: TF Placeholder for the learning rate\n",
    "    :param num_classes: Number of classes to classify\n",
    "    :return: Tuple of (logits, train_op, cross_entropy_loss)\n",
    "    \"\"\"\n",
    "    \n",
    "    # reshape to column = num_classes = 2\n",
    "    logits = tf.reshape(nn_last_layer, [-1, num_classes])\n",
    "    labels = tf.reshape(correct_label, [-1, num_classes])\n",
    "    # calculate cross entropy\n",
    "    cross_entropy_loss = tf.reduce_mean(tf.nn.softmax_cross_entropy_with_logits(labels = labels, logits = logits))\n",
    "    # add to summary for tensorboard\n",
    "    tf.summary.scalar('loss', cross_entropy_loss)\n",
    "    \n",
    "    # Optimizer - Adam works better than SGD\n",
    "    #train_op = tf.train.GradientDescentOptimizer(learning_rate).minimize(cross_entropy_loss)\n",
    "    train_op = tf.train.AdamOptimizer(learning_rate).minimize(cross_entropy_loss)\n",
    "    \n",
    "    return logits, train_op, cross_entropy_loss\n",
    "\n",
    "#tests.test_optimize(optimize)"
   ]
  },
  {
   "cell_type": "code",
   "execution_count": 5,
   "metadata": {
    "collapsed": true
   },
   "outputs": [],
   "source": [
    "def train_nn(sess, epochs, batch_size, get_batches_fn, train_op, cross_entropy_loss, input_image,\n",
    "             correct_label, keep_prob, learning_rate, merged, train_writer):\n",
    "    \"\"\"\n",
    "    Train neural network and print out the loss during training.\n",
    "    :param sess: TF Session\n",
    "    :param epochs: Number of epochs\n",
    "    :param batch_size: Batch size\n",
    "    :param get_batches_fn: Function to get batches of training data.  Call using get_batches_fn(batch_size)\n",
    "    :param train_op: TF Operation to train the neural network\n",
    "    :param cross_entropy_loss: TF Tensor for the amount of loss\n",
    "    :param input_image: TF Placeholder for input images\n",
    "    :param correct_label: TF Placeholder for label images\n",
    "    :param keep_prob: TF Placeholder for dropout keep probability\n",
    "    :param learning_rate: TF Placeholder for learning rate\n",
    "    \"\"\"\n",
    "    \n",
    "    # log every 2 * 16 = 32 image\n",
    "    log_batch_step = 16 \n",
    "    batches = []\n",
    "    loss_batch = []\n",
    "    \n",
    "    for epoch_i in range(epochs):\n",
    "        print('Epochs %d: ' % epoch_i)\n",
    "        print('---------------------')\n",
    "        i = 0\n",
    "        batch_i = 0\n",
    "        for input_img, gt_img in get_batches_fn(batch_size):\n",
    "            feed_dict = {input_image : input_img, correct_label : gt_img, keep_prob : 0.85, learning_rate : 1e-4}\n",
    "            _, l, summary = sess.run([train_op, cross_entropy_loss, merged], feed_dict = feed_dict)\n",
    "    \n",
    "            i += 1\n",
    "            if (i % log_batch_step == 0):\n",
    "                batch_i += 1\n",
    "                print('Minibatch loss at step %d: %f' % (batch_i, l))\n",
    "                # Log batches\n",
    "                previous_batch = batches[-1] if batches else 0\n",
    "                batches.append(log_batch_step + previous_batch)\n",
    "                loss_batch.append(l)\n",
    "                train_writer.add_summary(summary, batch_i)\n",
    "                train_writer.flush()\n",
    "     \n",
    "    # plot batch-loss summary\n",
    "    loss_plot = plt.subplot(111)\n",
    "    loss_plot.set_title('Loss')\n",
    "    loss_plot.plot(batches, loss_batch, 'g')\n",
    "    loss_plot.set_xlim([batches[0], batches[-1]])\n",
    "    \n",
    "    pass\n",
    "\n",
    "#tests.test_train_nn(train_nn)"
   ]
  },
  {
   "cell_type": "code",
   "execution_count": 6,
   "metadata": {
    "collapsed": true
   },
   "outputs": [],
   "source": [
    "def run():\n",
    "    num_classes = 2\n",
    "    image_shape = (160, 576)\n",
    "    data_dir = './data'\n",
    "    runs_dir = './runs'\n",
    "    tests.test_for_kitti_dataset(data_dir)\n",
    "\n",
    "    # Download pretrained vgg model\n",
    "    helper.maybe_download_pretrained_vgg(data_dir)\n",
    "\n",
    "    # OPTIONAL: Train and Inference on the cityscapes dataset instead of the Kitti dataset.\n",
    "    # You'll need a GPU with at least 10 teraFLOPS to train on.\n",
    "    #  https://www.cityscapes-dataset.com/\n",
    "\n",
    "    epochs = 10\n",
    "    batch_size = 2\n",
    "    \n",
    "    with tf.Session() as sess:        \n",
    "        # Path to vgg model\n",
    "        vgg_path = os.path.join(data_dir, 'vgg')\n",
    "        # Create function to get batches\n",
    "        get_batches_fn = helper.gen_batch_function(os.path.join(data_dir, 'data_road/training'), image_shape)\n",
    "        \n",
    "        # OPTIONAL: Augment Images for better results\n",
    "        #  https://datascience.stackexchange.com/questions/5224/how-to-prepare-augment-images-for-neural-network\n",
    "\n",
    "        # Build NN using load_vgg, layers, and optimize function\n",
    "        input_image, keep_prob, vgg_layer3_out, vgg_layer4_out, vgg_layer7_out = load_vgg(sess, vgg_path)\n",
    "        nn_last_layer = layers(vgg_layer3_out, vgg_layer4_out, vgg_layer7_out, num_classes)\n",
    "        \n",
    "        correct_label = tf.placeholder(tf.float32, (None, None, None, num_classes))\n",
    "        learning_rate = tf.placeholder(tf.float32)\n",
    "        logits, train_op, cross_entropy_loss = optimize(nn_last_layer, correct_label, learning_rate, num_classes)\n",
    "        \n",
    "        merged = tf.summary.merge_all()\n",
    "        train_writer = tf.summary.FileWriter('./logs', sess.graph)\n",
    "        \n",
    "        # initializes global variables in the graph\n",
    "        sess.run(tf.global_variables_initializer())\n",
    "        \n",
    "        # Train NN using the train_nn function\n",
    "        train_nn(sess, epochs, batch_size, get_batches_fn, train_op, cross_entropy_loss, input_image,\n",
    "                 correct_label, keep_prob, learning_rate, merged, train_writer)\n",
    "        \n",
    "        # TODO: Save inference data using helper.save_inference_samples\n",
    "        helper.save_inference_samples(runs_dir, data_dir, sess, image_shape, logits, keep_prob, input_image)\n",
    "\n",
    "        # OPTIONAL: Apply the trained model to a video"
   ]
  },
  {
   "cell_type": "code",
   "execution_count": 7,
   "metadata": {},
   "outputs": [
    {
     "name": "stdout",
     "output_type": "stream",
     "text": [
      "Tests Passed\n",
      "INFO:tensorflow:Restoring parameters from b'./data/vgg/variables/variables'\n",
      "Epochs 0: \n",
      "---------------------\n",
      "Minibatch loss at step 1: 7.980023\n",
      "Minibatch loss at step 2: 3.605894\n",
      "Minibatch loss at step 3: 2.167993\n",
      "Minibatch loss at step 4: 1.470710\n",
      "Minibatch loss at step 5: 1.394178\n",
      "Minibatch loss at step 6: 1.073156\n",
      "Minibatch loss at step 7: 1.026151\n",
      "Minibatch loss at step 8: 0.894994\n",
      "Minibatch loss at step 9: 0.879914\n",
      "Training Finished. Saving test images to: ./runs/1502896877.2458344\n"
     ]
    },
    {
     "data": {
      "image/png": "[encoded data removed]",
      "text/plain": [
       "<matplotlib.figure.Figure at 0x7f4deb402cc0>"
      ]
     },
     "metadata": {},
     "output_type": "display_data"
    }
   ],
   "source": [
    "if __name__ == '__main__':\n",
    "    run()"
   ]
  },
  {
   "cell_type": "code",
   "execution_count": null,
   "metadata": {
    "collapsed": true
   },
   "outputs": [],
   "source": []
  }
 ],
 "metadata": {
  "kernelspec": {
   "display_name": "Python 2",
   "language": "python",
   "name": "python2"
  },
  "language_info": {
   "codemirror_mode": {
    "name": "ipython",
    "version": 3
   },
   "file_extension": ".py",
   "mimetype": "text/x-python",
   "name": "python",
   "nbconvert_exporter": "python",
   "pygments_lexer": "ipython3",
   "version": "3.5.3"
  }
 },
 "nbformat": 4,
 "nbformat_minor": 1
}
